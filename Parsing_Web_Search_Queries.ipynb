{
  "cells": [
    {
      "cell_type": "markdown",
      "source": [
        "**Parsing-Web-Search-Queries**"
      ],
      "metadata": {
        "id": "WKKMxFJ6hHBY"
      },
      "id": "WKKMxFJ6hHBY"
    },
    {
      "cell_type": "markdown",
      "source": [
        "Create sets of Queries for each unique URL"
      ],
      "metadata": {
        "id": "P_DCUg0ZMgJd"
      },
      "id": "P_DCUg0ZMgJd"
    },
    {
      "cell_type": "markdown",
      "source": [
        "Data \n",
        "\n",
        "https://drive.google.com/file/d/1A5sn66Ms3OtEIu_5PFrjnoTyujXGT98E/view?usp=share_link"
      ],
      "metadata": {
        "id": "1X5jR7cGWgcx"
      },
      "id": "1X5jR7cGWgcx"
    },
    {
      "cell_type": "markdown",
      "source": [
        "Explanation Data / Meta Data\n",
        "\n",
        "https://www.michael-noll.com/blog/2006/08/07/aol-research-publishes-500k-user-queries/"
      ],
      "metadata": {
        "id": "C94HaxVPEOYK"
      },
      "id": "C94HaxVPEOYK"
    },
    {
      "cell_type": "code",
      "source": [],
      "metadata": {
        "id": "m4KJTbJsNlXe"
      },
      "id": "m4KJTbJsNlXe",
      "execution_count": null,
      "outputs": []
    },
    {
      "cell_type": "code",
      "source": [
        "from google.colab import drive\n",
        "drive.mount('/content/drive')"
      ],
      "metadata": {
        "colab": {
          "base_uri": "https://localhost:8080/"
        },
        "id": "fzej7QAC-Lft",
        "outputId": "10939af2-4c00-4d80-8a3a-6367fe2d3096"
      },
      "id": "fzej7QAC-Lft",
      "execution_count": null,
      "outputs": [
        {
          "output_type": "stream",
          "name": "stdout",
          "text": [
            "Mounted at /content/drive\n"
          ]
        }
      ]
    },
    {
      "cell_type": "code",
      "source": [
        "!pip install pyspark"
      ],
      "metadata": {
        "colab": {
          "base_uri": "https://localhost:8080/"
        },
        "id": "q8_QXMSQ-1AK",
        "outputId": "33d4e00d-1271-4b5d-e07a-9e3af22d300f"
      },
      "id": "q8_QXMSQ-1AK",
      "execution_count": null,
      "outputs": [
        {
          "output_type": "stream",
          "name": "stdout",
          "text": [
            "Looking in indexes: https://pypi.org/simple, https://us-python.pkg.dev/colab-wheels/public/simple/\n",
            "Collecting pyspark\n",
            "  Downloading pyspark-3.3.1.tar.gz (281.4 MB)\n",
            "\u001b[2K     \u001b[90m━━━━━━━━━━━━━━━━━━━━━━━━━━━━━━━━━━━━━━━\u001b[0m \u001b[32m281.4/281.4 MB\u001b[0m \u001b[31m5.1 MB/s\u001b[0m eta \u001b[36m0:00:00\u001b[0m\n",
            "\u001b[?25h  Preparing metadata (setup.py) ... \u001b[?25l\u001b[?25hdone\n",
            "Collecting py4j==0.10.9.5\n",
            "  Downloading py4j-0.10.9.5-py2.py3-none-any.whl (199 kB)\n",
            "\u001b[2K     \u001b[90m━━━━━━━━━━━━━━━━━━━━━━━━━━━━━━━━━━━━━━\u001b[0m \u001b[32m199.7/199.7 KB\u001b[0m \u001b[31m25.1 MB/s\u001b[0m eta \u001b[36m0:00:00\u001b[0m\n",
            "\u001b[?25hBuilding wheels for collected packages: pyspark\n",
            "  Building wheel for pyspark (setup.py) ... \u001b[?25l\u001b[?25hdone\n",
            "  Created wheel for pyspark: filename=pyspark-3.3.1-py2.py3-none-any.whl size=281845512 sha256=3b2114f46f97f1170a3aac62d31b9222b7532254dc23f1e6c644d558940e628f\n",
            "  Stored in directory: /root/.cache/pip/wheels/43/dc/11/ec201cd671da62fa9c5cc77078235e40722170ceba231d7598\n",
            "Successfully built pyspark\n",
            "Installing collected packages: py4j, pyspark\n",
            "Successfully installed py4j-0.10.9.5 pyspark-3.3.1\n"
          ]
        }
      ]
    },
    {
      "cell_type": "code",
      "execution_count": null,
      "id": "27f74974",
      "metadata": {
        "id": "27f74974"
      },
      "outputs": [],
      "source": [
        "from pyspark.sql import SparkSession"
      ]
    },
    {
      "cell_type": "code",
      "execution_count": null,
      "id": "a2a6b9cb",
      "metadata": {
        "id": "a2a6b9cb"
      },
      "outputs": [],
      "source": [
        "spark = SparkSession.builder.appName('Semyon').getOrCreate()"
      ]
    },
    {
      "cell_type": "markdown",
      "source": [
        "Link to data file:\n",
        "\n",
        "https://drive.google.com/file/d/1A5sn66Ms3OtEIu_5PFrjnoTyujXGT98E/view?usp=share_link"
      ],
      "metadata": {
        "id": "ujlAp_8TaRaB"
      },
      "id": "ujlAp_8TaRaB"
    },
    {
      "cell_type": "code",
      "execution_count": null,
      "id": "bea45a95",
      "metadata": {
        "id": "bea45a95"
      },
      "outputs": [],
      "source": [
        "#read file\n",
        "df = spark.read.load(\"/content/drive/MyDrive/BigData2023/user-ct-test-collection-01.csv\",format='csv', sep='\\t',inferSchema='true',header='true')"
      ]
    },
    {
      "cell_type": "code",
      "execution_count": null,
      "id": "b8af6d41",
      "metadata": {
        "id": "b8af6d41"
      },
      "outputs": [],
      "source": [
        "#Exlplore rare data frame"
      ]
    },
    {
      "cell_type": "code",
      "execution_count": null,
      "id": "59936bed",
      "metadata": {
        "colab": {
          "base_uri": "https://localhost:8080/"
        },
        "id": "59936bed",
        "outputId": "41ff58ef-d9e8-464d-a386-72afd4b4e691"
      },
      "outputs": [
        {
          "output_type": "stream",
          "name": "stdout",
          "text": [
            "root\n",
            " |-- AnonID: integer (nullable = true)\n",
            " |-- Query: string (nullable = true)\n",
            " |-- QueryTime: timestamp (nullable = true)\n",
            " |-- ItemRank: integer (nullable = true)\n",
            " |-- ClickURL: string (nullable = true)\n",
            "\n"
          ]
        }
      ],
      "source": [
        "df.printSchema()"
      ]
    },
    {
      "cell_type": "code",
      "execution_count": null,
      "id": "acaa5b4b",
      "metadata": {
        "colab": {
          "base_uri": "https://localhost:8080/"
        },
        "id": "acaa5b4b",
        "outputId": "c1a7f4cb-fa3e-4877-8b11-3f177cd1e6fd"
      },
      "outputs": [
        {
          "output_type": "stream",
          "name": "stdout",
          "text": [
            "+------+--------------------+-------------------+--------+--------------------+\n",
            "|AnonID|               Query|          QueryTime|ItemRank|            ClickURL|\n",
            "+------+--------------------+-------------------+--------+--------------------+\n",
            "|   142|      rentdirect.com|2006-03-01 07:17:12|    null|                null|\n",
            "|   142|www.prescriptionf...|2006-03-12 12:31:06|    null|                null|\n",
            "|   142|          staple.com|2006-03-17 21:19:29|    null|                null|\n",
            "|   142|          staple.com|2006-03-17 21:19:45|    null|                null|\n",
            "|   142|www.newyorklawyer...|2006-03-18 08:02:58|    null|                null|\n",
            "|   142|www.newyorklawyer...|2006-03-18 08:03:09|    null|                null|\n",
            "|   142|     westchester.gov|2006-03-20 03:55:57|       1|http://www.westch...|\n",
            "|   142|       space.comhttp|2006-03-24 20:51:24|    null|                null|\n",
            "|   142|                dfdf|2006-03-24 22:23:07|    null|                null|\n",
            "|   142|                dfdf|2006-03-24 22:23:14|    null|                null|\n",
            "|   142|         vaniqa.comh|2006-03-25 23:27:12|    null|                null|\n",
            "|   142| www.collegeucla.edu|2006-04-03 21:12:14|    null|                null|\n",
            "|   142|          www.elaorg|2006-04-03 21:25:20|    null|                null|\n",
            "|   142|        207 ad2d 530|2006-04-08 01:31:04|    null|                null|\n",
            "|   142|        207 ad2d 530|2006-04-08 01:31:14|       1|http://www.courts...|\n",
            "|   142|   broadway.vera.org|2006-04-08 08:38:23|    null|                null|\n",
            "|   142|   broadway.vera.org|2006-04-08 08:38:31|    null|                null|\n",
            "|   142|            vera.org|2006-04-08 08:38:42|       1| http://www.vera.org|\n",
            "|   142|   broadway.vera.org|2006-04-08 08:39:30|    null|                null|\n",
            "|   142|    frankmellace.com|2006-04-09 02:19:24|    null|                null|\n",
            "+------+--------------------+-------------------+--------+--------------------+\n",
            "only showing top 20 rows\n",
            "\n"
          ]
        }
      ],
      "source": [
        "df.show()"
      ]
    },
    {
      "cell_type": "code",
      "execution_count": null,
      "id": "2cb5756a",
      "metadata": {
        "colab": {
          "base_uri": "https://localhost:8080/"
        },
        "id": "2cb5756a",
        "outputId": "fc03d770-85fe-48f7-a09c-2616fb32639c"
      },
      "outputs": [
        {
          "output_type": "execute_result",
          "data": {
            "text/plain": [
              "pyspark.sql.dataframe.DataFrame"
            ]
          },
          "metadata": {},
          "execution_count": 10
        }
      ],
      "source": [
        "type(df)"
      ]
    },
    {
      "cell_type": "code",
      "execution_count": null,
      "id": "3ba9e219",
      "metadata": {
        "colab": {
          "base_uri": "https://localhost:8080/"
        },
        "id": "3ba9e219",
        "outputId": "efd8ba86-7211-48af-c288-83ccb5260c20"
      },
      "outputs": [
        {
          "output_type": "stream",
          "name": "stdout",
          "text": [
            "+-------+-----------------+-----------+------------------+--------------------+\n",
            "|summary|           AnonID|      Query|          ItemRank|            ClickURL|\n",
            "+-------+-----------------+-----------+------------------+--------------------+\n",
            "|  count|          3558411|    3558411|           1890568|             1890568|\n",
            "|   mean|6870203.703630356|        NaN| 6.717900123137596|                null|\n",
            "| stddev|5949049.219939173|        NaN|19.422603197433624|                null|\n",
            "|    min|              142|          &|                 0|ftp://ftp.etext.o...|\n",
            "|    max|         24969374|üíûçôñó ñùü|               500|https://zeus.he.n...|\n",
            "+-------+-----------------+-----------+------------------+--------------------+\n",
            "\n"
          ]
        }
      ],
      "source": [
        "df.describe().show()"
      ]
    },
    {
      "cell_type": "code",
      "execution_count": null,
      "id": "9dfce1db",
      "metadata": {
        "colab": {
          "base_uri": "https://localhost:8080/"
        },
        "id": "9dfce1db",
        "outputId": "7cd73f89-474b-48fa-d6ce-d2243a41a575"
      },
      "outputs": [
        {
          "output_type": "execute_result",
          "data": {
            "text/plain": [
              "['AnonID', 'Query', 'QueryTime', 'ItemRank', 'ClickURL']"
            ]
          },
          "metadata": {},
          "execution_count": 8
        }
      ],
      "source": [
        "df.columns"
      ]
    },
    {
      "cell_type": "code",
      "execution_count": null,
      "id": "5d289372",
      "metadata": {
        "id": "5d289372"
      },
      "outputs": [],
      "source": [
        "#summary of explorer process:\n",
        "#3.56 milions rows\n",
        "#5 coloums\n",
        "#rows include null\n",
        "#some coloums include duplicate data"
      ]
    },
    {
      "cell_type": "code",
      "execution_count": null,
      "id": "38e6d880",
      "metadata": {
        "id": "38e6d880"
      },
      "outputs": [],
      "source": [
        "#drop unnecesary colums"
      ]
    },
    {
      "cell_type": "code",
      "execution_count": null,
      "id": "3e96552e",
      "metadata": {
        "id": "3e96552e"
      },
      "outputs": [],
      "source": [
        "newdf = df.drop('QueryTime','ItemRank')"
      ]
    },
    {
      "cell_type": "code",
      "execution_count": null,
      "id": "7ad5fbc6",
      "metadata": {
        "colab": {
          "base_uri": "https://localhost:8080/"
        },
        "id": "7ad5fbc6",
        "outputId": "dcc51987-f153-4e1a-f803-bc014c855dc6"
      },
      "outputs": [
        {
          "output_type": "execute_result",
          "data": {
            "text/plain": [
              "['AnonID', 'Query', 'ClickURL']"
            ]
          },
          "metadata": {},
          "execution_count": 10
        }
      ],
      "source": [
        "newdf.columns"
      ]
    },
    {
      "cell_type": "code",
      "execution_count": null,
      "id": "be2742cf",
      "metadata": {
        "colab": {
          "base_uri": "https://localhost:8080/"
        },
        "id": "be2742cf",
        "outputId": "8b6a9b65-08f2-4ac6-8c11-c4ce76c9a16b"
      },
      "outputs": [
        {
          "output_type": "stream",
          "name": "stdout",
          "text": [
            "+------+--------------------+--------------------+\n",
            "|AnonID|               Query|            ClickURL|\n",
            "+------+--------------------+--------------------+\n",
            "|   142|      rentdirect.com|                null|\n",
            "|   142|www.prescriptionf...|                null|\n",
            "|   142|          staple.com|                null|\n",
            "|   142|          staple.com|                null|\n",
            "|   142|www.newyorklawyer...|                null|\n",
            "|   142|www.newyorklawyer...|                null|\n",
            "|   142|     westchester.gov|http://www.westch...|\n",
            "|   142|       space.comhttp|                null|\n",
            "|   142|                dfdf|                null|\n",
            "|   142|                dfdf|                null|\n",
            "|   142|         vaniqa.comh|                null|\n",
            "|   142| www.collegeucla.edu|                null|\n",
            "|   142|          www.elaorg|                null|\n",
            "|   142|        207 ad2d 530|                null|\n",
            "|   142|        207 ad2d 530|http://www.courts...|\n",
            "|   142|   broadway.vera.org|                null|\n",
            "|   142|   broadway.vera.org|                null|\n",
            "|   142|            vera.org| http://www.vera.org|\n",
            "|   142|   broadway.vera.org|                null|\n",
            "|   142|    frankmellace.com|                null|\n",
            "+------+--------------------+--------------------+\n",
            "only showing top 20 rows\n",
            "\n"
          ]
        }
      ],
      "source": [
        "newdf.show()"
      ]
    },
    {
      "cell_type": "code",
      "execution_count": null,
      "id": "f90efb04",
      "metadata": {
        "id": "f90efb04"
      },
      "outputs": [],
      "source": [
        "#drop null rows in data frame "
      ]
    },
    {
      "cell_type": "code",
      "execution_count": null,
      "id": "13ee0df1",
      "metadata": {
        "id": "13ee0df1"
      },
      "outputs": [],
      "source": [
        "findf = newdf.na.drop()"
      ]
    },
    {
      "cell_type": "code",
      "execution_count": null,
      "id": "af54e213",
      "metadata": {
        "colab": {
          "base_uri": "https://localhost:8080/"
        },
        "id": "af54e213",
        "outputId": "c69b0527-5a3d-48ce-de1a-324c92dc2a73"
      },
      "outputs": [
        {
          "output_type": "stream",
          "name": "stdout",
          "text": [
            "+------+--------------------+--------------------+\n",
            "|AnonID|               Query|            ClickURL|\n",
            "+------+--------------------+--------------------+\n",
            "|   142|     westchester.gov|http://www.westch...|\n",
            "|   142|        207 ad2d 530|http://www.courts...|\n",
            "|   142|            vera.org| http://www.vera.org|\n",
            "|   217|             lottery|http://www.calott...|\n",
            "|   217|             lottery|http://www.calott...|\n",
            "|   217|      ameriprise.com|http://www.amerip...|\n",
            "|   217|          mizuno.com|http://www.mizuno...|\n",
            "|   217|asiansexygoddess.com|http://www.asians...|\n",
            "|   217|bestasiancompany.com|http://www.bestas...|\n",
            "|   217|             lottery|http://www.calott...|\n",
            "|   217|             lottery|http://www.calott...|\n",
            "|   217|             ask.com|  http://www.ask.com|\n",
            "|   217|                   -|http://www.theone...|\n",
            "|   993|    chasebadkids.net|http://www.chaseb...|\n",
            "|  1268|ozark horse blankets|http://www.blanke...|\n",
            "|  1268|osteen-schatzberg...|http://www.osteen...|\n",
            "|  1268|osteen-schatzberg...|http://www.osteen...|\n",
            "|  1268|          gallstones|http://www.niddk....|\n",
            "|  1326|the child's wonde...|http://www.wonder...|\n",
            "|  1326|holiday mansion h...|http://www.everyb...|\n",
            "+------+--------------------+--------------------+\n",
            "only showing top 20 rows\n",
            "\n"
          ]
        }
      ],
      "source": [
        "findf.show()"
      ]
    },
    {
      "cell_type": "code",
      "execution_count": null,
      "id": "11d3a379",
      "metadata": {
        "colab": {
          "base_uri": "https://localhost:8080/"
        },
        "id": "11d3a379",
        "outputId": "a5ac805c-8bdb-4603-b482-5ba09464ba96"
      },
      "outputs": [
        {
          "output_type": "stream",
          "name": "stdout",
          "text": [
            "+-------+-----------------+--------+--------------------+\n",
            "|summary|           AnonID|   Query|            ClickURL|\n",
            "+-------+-----------------+--------+--------------------+\n",
            "|  count|          1890568| 1890568|             1890568|\n",
            "|   mean|6259673.164788571|Infinity|                null|\n",
            "| stddev|5605872.209522132|     NaN|                null|\n",
            "|    min|              142|&hearts;|ftp://ftp.etext.o...|\n",
            "|    max|         24969374|zzsounds|https://zeus.he.n...|\n",
            "+-------+-----------------+--------+--------------------+\n",
            "\n"
          ]
        }
      ],
      "source": [
        "findf.describe().show()"
      ]
    },
    {
      "cell_type": "code",
      "execution_count": null,
      "id": "a4300e6f",
      "metadata": {
        "id": "a4300e6f"
      },
      "outputs": [],
      "source": [
        "#after dropping null rows we have data frame with 1.9 million rows\n",
        "#now we have to handle duplicates rows"
      ]
    },
    {
      "cell_type": "code",
      "execution_count": null,
      "id": "0c886650",
      "metadata": {
        "id": "0c886650"
      },
      "outputs": [],
      "source": [
        "finaldf = findf.dropDuplicates(['Query', 'ClickURL'])"
      ]
    },
    {
      "cell_type": "code",
      "execution_count": null,
      "id": "c7954626",
      "metadata": {
        "colab": {
          "base_uri": "https://localhost:8080/"
        },
        "id": "c7954626",
        "outputId": "1d3566b7-1c8b-4f9c-d6bb-e673f7019b8e"
      },
      "outputs": [
        {
          "output_type": "stream",
          "name": "stdout",
          "text": [
            "+------+--------------------+--------------------+\n",
            "|AnonID|               Query|            ClickURL|\n",
            "+------+--------------------+--------------------+\n",
            "|  2722|       preteen party|http://www.inbyte...|\n",
            "|  2722|       preteen party|http://www.kidcra...|\n",
            "|  3302|small cordless cu...|http://www.nextag...|\n",
            "|  3302|           phlebitis|http://www.emedic...|\n",
            "|  3769|        ussenate.gov|http://www.senate...|\n",
            "|  5818|        queen mary 2|http://www.cunard...|\n",
            "|  7548|    dvd 20duplicator| http://uksimple.net|\n",
            "|  8041|jimmy carter and ...|http://www.global...|\n",
            "|  8041| nathaniel hawthorne|http://members.ao...|\n",
            "| 10291|the odd couple br...|http://www.broadw...|\n",
            "| 11468|online fiduciary ...|http://www.gatewa...|\n",
            "| 13373|      lisa mcpherson|http://www.lisamc...|\n",
            "| 13508|        actuary exam|http://www.actuar...|\n",
            "| 15565|american indian h...|http://www.crafts...|\n",
            "| 22179|              slingo|http://www.gamezo...|\n",
            "| 22748|            clip art|http://www.clip-a...|\n",
            "| 23100|     pasta con sarde|http://foodgeeks.com|\n",
            "| 23988|       quadrupalites|http://www.myspac...|\n",
            "| 24687|       yahoomail.com|http://marylou289...|\n",
            "| 24745|namco plug and pl...|http://1416.csy34...|\n",
            "+------+--------------------+--------------------+\n",
            "only showing top 20 rows\n",
            "\n"
          ]
        }
      ],
      "source": [
        "finaldf.show(20)"
      ]
    },
    {
      "cell_type": "code",
      "execution_count": null,
      "id": "0d7c5b95",
      "metadata": {
        "colab": {
          "base_uri": "https://localhost:8080/"
        },
        "id": "0d7c5b95",
        "outputId": "4356e3c6-e9e6-4f35-f148-a2584f32b6b4"
      },
      "outputs": [
        {
          "output_type": "stream",
          "name": "stdout",
          "text": [
            "+-------+-----------------+--------+--------------------+\n",
            "|summary|           AnonID|   Query|            ClickURL|\n",
            "+-------+-----------------+--------+--------------------+\n",
            "|  count|          1211341| 1211341|             1211341|\n",
            "|   mean|6008174.676441234|Infinity|                null|\n",
            "| stddev|5452342.080540622|     NaN|                null|\n",
            "|    min|              142|&hearts;|ftp://ftp.etext.o...|\n",
            "|    max|         24969374|zzsounds|https://zeus.he.n...|\n",
            "+-------+-----------------+--------+--------------------+\n",
            "\n"
          ]
        }
      ],
      "source": [
        "finaldf.describe().show()"
      ]
    },
    {
      "cell_type": "code",
      "execution_count": null,
      "id": "9d8a1261",
      "metadata": {
        "colab": {
          "base_uri": "https://localhost:8080/"
        },
        "id": "9d8a1261",
        "outputId": "b068bb2a-ebd3-4d58-b317-9302b3a7717c"
      },
      "outputs": [
        {
          "output_type": "stream",
          "name": "stdout",
          "text": [
            "root\n",
            " |-- AnonID: integer (nullable = true)\n",
            " |-- Query: string (nullable = true)\n",
            " |-- ClickURL: string (nullable = true)\n",
            "\n"
          ]
        }
      ],
      "source": [
        "finaldf.printSchema()"
      ]
    },
    {
      "cell_type": "code",
      "execution_count": null,
      "id": "1f652aa3",
      "metadata": {
        "id": "1f652aa3"
      },
      "outputs": [],
      "source": [
        "# some tests to see into the data frame"
      ]
    },
    {
      "cell_type": "code",
      "execution_count": null,
      "id": "9e60af2c",
      "metadata": {
        "colab": {
          "base_uri": "https://localhost:8080/"
        },
        "id": "9e60af2c",
        "outputId": "48beea2b-8f01-4d8d-ea23-0b2191605850"
      },
      "outputs": [
        {
          "output_type": "stream",
          "name": "stdout",
          "text": [
            "+------+---------------+--------------------+\n",
            "|AnonID|          Query|            ClickURL|\n",
            "+------+---------------+--------------------+\n",
            "|   142|       vera.org| http://www.vera.org|\n",
            "|   142|westchester.gov|http://www.westch...|\n",
            "|   142|   207 ad2d 530|http://www.courts...|\n",
            "+------+---------------+--------------------+\n",
            "\n"
          ]
        }
      ],
      "source": [
        "result = finaldf.filter(findf['AnonID'] == 142).show()"
      ]
    },
    {
      "cell_type": "code",
      "execution_count": null,
      "id": "0e66f45c",
      "metadata": {
        "id": "0e66f45c"
      },
      "outputs": [],
      "source": [
        "#now let explore ClickUrl data\n",
        "#for that reason we create temporary data frame and\n",
        "#drop duplicates url rows"
      ]
    },
    {
      "cell_type": "code",
      "execution_count": null,
      "id": "6f52b354",
      "metadata": {
        "id": "6f52b354"
      },
      "outputs": [],
      "source": [
        "urldf = finaldf.dropDuplicates(['ClickURL'])"
      ]
    },
    {
      "cell_type": "code",
      "execution_count": null,
      "id": "29a7bbaf",
      "metadata": {
        "colab": {
          "base_uri": "https://localhost:8080/"
        },
        "id": "29a7bbaf",
        "outputId": "b02aeceb-a411-4d01-9cc7-847fc7f50ff4"
      },
      "outputs": [
        {
          "output_type": "stream",
          "name": "stdout",
          "text": [
            "+--------+--------------------+--------------------+\n",
            "|  AnonID|               Query|            ClickURL|\n",
            "+--------+--------------------+--------------------+\n",
            "|  317966|my mother inlaws ...|ftp://ftp.etext.o...|\n",
            "| 1268323|conver farenheit ...|ftp://ftp.lispwor...|\n",
            "| 3477756|gun laws in wake ...|http:// crime.abo...|\n",
            "| 1648239|     sewing material|http:// frugalliv...|\n",
            "|15057624|why do i have asy...|http:// goofy-gir...|\n",
            "| 1901270|interourse positi...|http:// www.merid...|\n",
            "| 3163556|              gleece|http:// www.musec...|\n",
            "| 7895862|             chaefin|http://---soclich...|\n",
            "| 6912017|                 kol|http://-kol.devia...|\n",
            "| 2848525|    balnce transfers|            http://0|\n",
            "| 3896945|university of mic...|http://0-casl.umd...|\n",
            "|11358331|legal forms for j...|http://0-family.f...|\n",
            "| 5671139|     bombshell babes|http://0-in.group...|\n",
            "| 1970679|child support in ...|http://0-profs.lp...|\n",
            "| 2210500|jarhead book cont...|http://0-writ.new...|\n",
            "|11710093|behaviors of hors...|http://0-www.bioo...|\n",
            "| 9676789|news broadcasts 2...|http://0-www.bls....|\n",
            "|13272136|       haworth press|http://0-www.hawo...|\n",
            "|  945971|       creek indians|http://0-www.loc....|\n",
            "| 3058504|i have diarrhea a...|http://0-www.nlm....|\n",
            "+--------+--------------------+--------------------+\n",
            "only showing top 20 rows\n",
            "\n"
          ]
        }
      ],
      "source": [
        "urldf.show()"
      ]
    },
    {
      "cell_type": "code",
      "execution_count": null,
      "id": "2f882a1c",
      "metadata": {
        "id": "2f882a1c",
        "outputId": "3a01dd90-33b0-4960-ec60-c620cbedc934"
      },
      "outputs": [
        {
          "name": "stderr",
          "output_type": "stream",
          "text": [
            "[Stage 45:>                                                         (0 + 4) / 4]\r"
          ]
        },
        {
          "name": "stdout",
          "output_type": "stream",
          "text": [
            "+-------+-----------------+--------------------+--------------------+\n",
            "|summary|           AnonID|               Query|            ClickURL|\n",
            "+-------+-----------------+--------------------+--------------------+\n",
            "|  count|           377870|              377870|              377870|\n",
            "|   mean|5720795.268433589|            Infinity|                null|\n",
            "| stddev|5371156.796250555|                 NaN|                null|\n",
            "|    min|              142|&quot;free porno&...|ftp://ftp.etext.o...|\n",
            "|    max|         24967317|      zzhi ho silver|https://zeus.he.n...|\n",
            "+-------+-----------------+--------------------+--------------------+\n",
            "\n"
          ]
        },
        {
          "name": "stderr",
          "output_type": "stream",
          "text": [
            "\r",
            "                                                                                \r"
          ]
        }
      ],
      "source": [
        "urldf.describe().show()"
      ]
    },
    {
      "cell_type": "code",
      "execution_count": null,
      "id": "b9171036",
      "metadata": {
        "id": "b9171036"
      },
      "outputs": [],
      "source": [
        "#we have 377870 unique URL "
      ]
    },
    {
      "cell_type": "code",
      "execution_count": null,
      "id": "6aff76e3",
      "metadata": {
        "id": "6aff76e3"
      },
      "outputs": [],
      "source": [
        "#now let explore Query data\n",
        "#for that reason we create temporary data frame and\n",
        "#drop duplicates Query rows"
      ]
    },
    {
      "cell_type": "code",
      "execution_count": null,
      "id": "143eb9d9",
      "metadata": {
        "id": "143eb9d9"
      },
      "outputs": [],
      "source": [
        "quldf = finaldf.dropDuplicates(['Query'])"
      ]
    },
    {
      "cell_type": "code",
      "execution_count": null,
      "id": "404435c7",
      "metadata": {
        "colab": {
          "base_uri": "https://localhost:8080/"
        },
        "id": "404435c7",
        "outputId": "23a9e452-72ca-44c4-c22a-1bdd600ca6a9"
      },
      "outputs": [
        {
          "output_type": "stream",
          "name": "stdout",
          "text": [
            "+--------+--------------------+--------------------+\n",
            "|  AnonID|               Query|            ClickURL|\n",
            "+--------+--------------------+--------------------+\n",
            "| 6553736|&hearts; falling ...|http://www.myprof...|\n",
            "| 5790732|' johnstown tribu...|http://www.tribun...|\n",
            "| 1755613| ' washington kansas|http://www.washin...|\n",
            "| 9895456|''fall out boylyr...|http://www.lyrics...|\n",
            "|18031526|''i can't help it...|http://www.movies...|\n",
            "| 1675156|''once upon a dec...|http://www.stlyri...|\n",
            "|  425484|''smith sisters m...|http://www.snopes...|\n",
            "| 1675156|''somewhere over ...|http://www.brave.com|\n",
            "| 9370946|      '69 chevy nova|http://www.carnut...|\n",
            "| 7012478|    '90's r&b lyrics|http://www.allthe...|\n",
            "| 1463099|'automobile insur...|http://www.insura...|\n",
            "| 6638143|'baby baby bring ...|http://www.dapsly...|\n",
            "| 1463099|     'bassett hound'|http://www.yourpu...|\n",
            "| 1161739|        'boss tweed'|http://www.albany...|\n",
            "| 1463099|'bowie high schoo...|http://www.greats...|\n",
            "| 2399334|'constant compani...|http://www.hotstu...|\n",
            "| 9078858|         'denver co'|http://www.denver...|\n",
            "| 6844831|      'dog training'|http://www.101-do...|\n",
            "| 6458100|'don't forget abo...|http://www.hotlyr...|\n",
            "| 4120098|  'ellis brenner cpa|http://www.superp...|\n",
            "+--------+--------------------+--------------------+\n",
            "only showing top 20 rows\n",
            "\n"
          ]
        }
      ],
      "source": [
        "quldf.show()"
      ]
    },
    {
      "cell_type": "code",
      "execution_count": null,
      "id": "30e6f214",
      "metadata": {
        "colab": {
          "base_uri": "https://localhost:8080/"
        },
        "id": "30e6f214",
        "outputId": "02db3a2e-e679-4ca4-ae66-6725ec4d50bc"
      },
      "outputs": [
        {
          "output_type": "stream",
          "name": "stdout",
          "text": [
            "+-------+-----------------+--------+--------------------+\n",
            "|summary|           AnonID|   Query|            ClickURL|\n",
            "+-------+-----------------+--------+--------------------+\n",
            "|  count|           594589|  594589|              594589|\n",
            "|   mean|6192580.183237497|Infinity|                null|\n",
            "| stddev|5551705.065814174|     NaN|                null|\n",
            "|    min|              142|&hearts;|ftp://ftp.etext.o...|\n",
            "|    max|         24969374|zzsounds|https://yosemite....|\n",
            "+-------+-----------------+--------+--------------------+\n",
            "\n"
          ]
        }
      ],
      "source": [
        "quldf.describe().show()"
      ]
    },
    {
      "cell_type": "code",
      "execution_count": null,
      "id": "d624ba0f",
      "metadata": {
        "id": "d624ba0f"
      },
      "outputs": [],
      "source": [
        "#we have 594589 unique Query "
      ]
    },
    {
      "cell_type": "code",
      "execution_count": null,
      "id": "dc20579b",
      "metadata": {
        "colab": {
          "base_uri": "https://localhost:8080/"
        },
        "id": "dc20579b",
        "outputId": "209e23b1-a692-400d-9024-61f087aa21df"
      },
      "outputs": [
        {
          "output_type": "stream",
          "name": "stdout",
          "text": [
            "+--------+--------------------+--------------------+\n",
            "|  AnonID|               Query|            ClickURL|\n",
            "+--------+--------------------+--------------------+\n",
            "|  317966|my mother inlaws ...|ftp://ftp.etext.o...|\n",
            "| 1268323|conver farenheit ...|ftp://ftp.lispwor...|\n",
            "| 2465036|the cast of poseidon|             http://|\n",
            "| 4148210|   harry potter cast|             http://|\n",
            "| 3477756|gun laws in wake ...|http:// crime.abo...|\n",
            "| 7580166|south carolina cr...|http:// crime.abo...|\n",
            "| 1648239|     sewing material|http:// frugalliv...|\n",
            "|15057624|why do i have asy...|http:// goofy-gir...|\n",
            "| 6164419|bed and breakfast...|http:// www.bedan...|\n",
            "| 6164419|irish bed an brea...|http:// www.bedan...|\n",
            "| 1901270|interourse positi...|http:// www.merid...|\n",
            "| 3163556|              gleece|http:// www.musec...|\n",
            "|11984870|hilton head clean...|http:// www.mytra...|\n",
            "| 1544054|starbucks restaur...|http:// www.mytra...|\n",
            "| 1300050|      alaska 20ferry|http:// www.trave...|\n",
            "| 4548146|                   -|http:// www.vrbo.com|\n",
            "| 7895862|             chaefin|http://---soclich...|\n",
            "|10659727|           univicion|http://-com-calie...|\n",
            "| 6912017|                 kol|http://-kol.devia...|\n",
            "| 8972852|     rent screencaps|http://-rent.grea...|\n",
            "+--------+--------------------+--------------------+\n",
            "only showing top 20 rows\n",
            "\n"
          ]
        }
      ],
      "source": [
        "finaldf.sort('ClickURL').show()"
      ]
    },
    {
      "cell_type": "code",
      "execution_count": null,
      "id": "ec31ca68",
      "metadata": {
        "id": "ec31ca68"
      },
      "outputs": [],
      "source": [
        "freqdf = finaldf.groupBy('ClickURL').count()"
      ]
    },
    {
      "cell_type": "code",
      "execution_count": null,
      "id": "09812675",
      "metadata": {
        "colab": {
          "base_uri": "https://localhost:8080/"
        },
        "id": "09812675",
        "outputId": "44e163b2-c2be-42a6-e523-ff6c36a65c64"
      },
      "outputs": [
        {
          "output_type": "stream",
          "name": "stdout",
          "text": [
            "+--------------------+-----+\n",
            "|            ClickURL|count|\n",
            "+--------------------+-----+\n",
            "|http://en.wikiped...| 9938|\n",
            "|http://www.amazon...| 8178|\n",
            "| http://www.imdb.com| 6730|\n",
            "|http://www.geocit...| 3037|\n",
            "|http://www.bizrat...| 2676|\n",
            "|http://www.tripad...| 2515|\n",
            "|http://profile.my...| 2407|\n",
            "| http://cgi.ebay.com| 2343|\n",
            "|http://www.answer...| 2309|\n",
            "|http://www.nextag...| 2285|\n",
            "|http://shopping.m...| 1896|\n",
            "|   http://www.tv.com| 1733|\n",
            "|http://www.superp...| 1681|\n",
            "|http://www.angelf...| 1603|\n",
            "|http://travel.yah...| 1576|\n",
            "|http://dir.yahoo.com| 1496|\n",
            "|http://www.findar...| 1485|\n",
            "|http://www.city-d...| 1482|\n",
            "|http://www.epinio...| 1421|\n",
            "|http://www.sing36...| 1398|\n",
            "+--------------------+-----+\n",
            "only showing top 20 rows\n",
            "\n"
          ]
        }
      ],
      "source": [
        "freqdf.sort('count',ascending=False).show()"
      ]
    },
    {
      "cell_type": "code",
      "execution_count": null,
      "id": "b99b3689",
      "metadata": {
        "colab": {
          "base_uri": "https://localhost:8080/"
        },
        "id": "b99b3689",
        "outputId": "1bd1ed38-9d4e-45a5-8936-17f5f3866abf"
      },
      "outputs": [
        {
          "output_type": "stream",
          "name": "stdout",
          "text": [
            "+-------+--------------------+------------------+\n",
            "|summary|            ClickURL|             count|\n",
            "+-------+--------------------+------------------+\n",
            "|  count|              377870|            377870|\n",
            "|   mean|                null|3.2057083123825656|\n",
            "| stddev|                null|30.768868338310735|\n",
            "|    min|ftp://ftp.etext.o...|                 1|\n",
            "|    max|https://zeus.he.n...|              9938|\n",
            "+-------+--------------------+------------------+\n",
            "\n"
          ]
        }
      ],
      "source": [
        "freqdf.describe().show()"
      ]
    },
    {
      "cell_type": "code",
      "execution_count": null,
      "id": "afbb1c16",
      "metadata": {
        "id": "afbb1c16"
      },
      "outputs": [],
      "source": [
        "#explore frequency of url"
      ]
    },
    {
      "cell_type": "code",
      "execution_count": null,
      "id": "d9937e69",
      "metadata": {
        "id": "d9937e69"
      },
      "outputs": [],
      "source": [
        "freqgrbydf = freqdf.groupBy('count').count()"
      ]
    },
    {
      "cell_type": "code",
      "execution_count": null,
      "id": "7e127fa9",
      "metadata": {
        "colab": {
          "base_uri": "https://localhost:8080/"
        },
        "id": "7e127fa9",
        "outputId": "c9388400-ee79-4d26-bdb1-eccd3c277071"
      },
      "outputs": [
        {
          "output_type": "stream",
          "name": "stdout",
          "text": [
            "+-----+------+\n",
            "|count| count|\n",
            "+-----+------+\n",
            "|    1|249694|\n",
            "|    2| 54444|\n",
            "|    3| 22727|\n",
            "|    4| 12422|\n",
            "|    5|  7913|\n",
            "|    6|  5218|\n",
            "|    7|  3798|\n",
            "|    8|  2932|\n",
            "|    9|  2289|\n",
            "|   10|  1836|\n",
            "|   11|  1476|\n",
            "|   12|  1215|\n",
            "|   13|  1047|\n",
            "|   14|   884|\n",
            "|   15|   747|\n",
            "|   16|   695|\n",
            "|   17|   593|\n",
            "|   18|   523|\n",
            "|   19|   482|\n",
            "|   20|   426|\n",
            "+-----+------+\n",
            "only showing top 20 rows\n",
            "\n"
          ]
        }
      ],
      "source": [
        "freqgrbydf.sort('count',ascending=True).show()"
      ]
    },
    {
      "cell_type": "code",
      "execution_count": null,
      "id": "020e8202",
      "metadata": {
        "colab": {
          "base_uri": "https://localhost:8080/"
        },
        "id": "020e8202",
        "outputId": "6858261e-e376-4a8b-a71c-06fd4ee4af2f"
      },
      "outputs": [
        {
          "output_type": "stream",
          "name": "stdout",
          "text": [
            "root\n",
            " |-- ClickURL: string (nullable = true)\n",
            " |-- count: long (nullable = false)\n",
            "\n"
          ]
        }
      ],
      "source": [
        "freqdf.printSchema()"
      ]
    },
    {
      "cell_type": "code",
      "execution_count": null,
      "id": "b5fed897",
      "metadata": {
        "id": "b5fed897"
      },
      "outputs": [],
      "source": [
        "reduce_freqdf = freqdf.where('count < 10')"
      ]
    },
    {
      "cell_type": "code",
      "execution_count": null,
      "id": "cfc023c1",
      "metadata": {
        "colab": {
          "base_uri": "https://localhost:8080/"
        },
        "id": "cfc023c1",
        "outputId": "83ab3082-6749-4d21-dda4-8ffa05a0c42b"
      },
      "outputs": [
        {
          "output_type": "stream",
          "name": "stdout",
          "text": [
            "+--------------------+-----+\n",
            "|            ClickURL|count|\n",
            "+--------------------+-----+\n",
            "|http://rosite.en....|    9|\n",
            "|http://www.rssauc...|    9|\n",
            "|http://www.family...|    9|\n",
            "|http://www.rscc.c...|    9|\n",
            "|http://www.xbox-s...|    9|\n",
            "| http://www.cyss.org|    9|\n",
            "|http://weddings.l...|    9|\n",
            "| http://www.rudd.com|    9|\n",
            "|http://au.answers...|    9|\n",
            "|http://www.latina...|    9|\n",
            "|http://www.ci.ran...|    9|\n",
            "|http://www.donswo...|    9|\n",
            "|http://www.univer...|    9|\n",
            "|http://www.cathol...|    9|\n",
            "| http://www.taxi.com|    9|\n",
            "|http://longisland...|    9|\n",
            "|http://www.botany...|    9|\n",
            "|http://www.bronxz...|    9|\n",
            "|http://www.tracka...|    9|\n",
            "|http://www.danceh...|    9|\n",
            "+--------------------+-----+\n",
            "only showing top 20 rows\n",
            "\n"
          ]
        }
      ],
      "source": [
        "reduce_freqdf.sort('count',ascending=False).show()"
      ]
    },
    {
      "cell_type": "code",
      "execution_count": null,
      "id": "55b87662",
      "metadata": {
        "colab": {
          "base_uri": "https://localhost:8080/"
        },
        "id": "55b87662",
        "outputId": "01738eb4-69c9-4507-8d89-8c6d77055bbb"
      },
      "outputs": [
        {
          "output_type": "stream",
          "name": "stdout",
          "text": [
            "+-------+--------------------+------------------+\n",
            "|summary|            ClickURL|             count|\n",
            "+-------+--------------------+------------------+\n",
            "|  count|              361437|            361437|\n",
            "|   mean|                null|1.7097502469310004|\n",
            "| stddev|                null| 1.449149291448675|\n",
            "|    min|ftp://ftp.etext.o...|                 1|\n",
            "|    max|https://zeus.he.n...|                 9|\n",
            "+-------+--------------------+------------------+\n",
            "\n"
          ]
        }
      ],
      "source": [
        "reduce_freqdf.describe().show()"
      ]
    },
    {
      "cell_type": "code",
      "execution_count": null,
      "id": "1c2bf151",
      "metadata": {
        "id": "1c2bf151"
      },
      "outputs": [],
      "source": [
        "newdf = finaldf.join(reduce_freqdf,['ClickURL'],'leftanti')"
      ]
    },
    {
      "cell_type": "code",
      "execution_count": null,
      "id": "f9f19a3f",
      "metadata": {
        "colab": {
          "base_uri": "https://localhost:8080/"
        },
        "id": "f9f19a3f",
        "outputId": "4f4c25a7-6d41-49a0-a383-9f0e10827f48"
      },
      "outputs": [
        {
          "output_type": "stream",
          "name": "stdout",
          "text": [
            "+--------------------+--------+--------------------+\n",
            "|            ClickURL|  AnonID|               Query|\n",
            "+--------------------+--------+--------------------+\n",
            "|http://123-baby-n...| 3954631|   meaning of tanaya|\n",
            "|http://123-baby-n...| 3254007|      baby boy names|\n",
            "|http://123-baby-n...|  471426|filipino baby gir...|\n",
            "|http://123-baby-n...| 5876265|    baby girls names|\n",
            "|http://123-baby-n...|23317283|meaning of jayla ...|\n",
            "|http://123-baby-n...| 7273463|       name meanings|\n",
            "|http://123-baby-n...|  471426|     baby girl names|\n",
            "|http://123-baby-n...| 2530372|      baby names.com|\n",
            "|http://123-baby-n...|  447315|          baby names|\n",
            "|http://123-baby-n...| 9016154|           names.com|\n",
            "|http://123-baby-n...|16335807| the meaning of fire|\n",
            "|http://123-baby-n...| 5231713|           babynames|\n",
            "|http://1stholisti...|  731913|defensiveness rel...|\n",
            "|http://1stholisti...| 2867750|prayer for forgiv...|\n",
            "|http://1stholisti...|   76931|easter treats for...|\n",
            "|http://1stholisti...| 4237758|simple carbohydrates|\n",
            "|http://1stholisti...| 1016497|   natural cosmetics|\n",
            "|http://1stholisti...|  843043| prayer for the sick|\n",
            "|http://1stholisti...| 2734672|wal mart ocean na...|\n",
            "|http://1stholisti...|  883580|www.markbrandenbu...|\n",
            "+--------------------+--------+--------------------+\n",
            "only showing top 20 rows\n",
            "\n"
          ]
        }
      ],
      "source": [
        "newdf.show()"
      ]
    },
    {
      "cell_type": "code",
      "execution_count": null,
      "id": "898f2495",
      "metadata": {
        "colab": {
          "base_uri": "https://localhost:8080/"
        },
        "id": "898f2495",
        "outputId": "1b4e6a50-90fa-4db7-f833-536a233429e6"
      },
      "outputs": [
        {
          "output_type": "stream",
          "name": "stdout",
          "text": [
            "+-------+--------------------+-----------------+--------------------+\n",
            "|summary|            ClickURL|           AnonID|               Query|\n",
            "+-------+--------------------+-----------------+--------------------+\n",
            "|  count|              593374|           593374|              593374|\n",
            "|   mean|                null|5911759.766585661|7.009694387721236E15|\n",
            "| stddev|                null|5415369.567241093|8.197948293694032E16|\n",
            "|    min|http://1.myfreebu...|              142|            &hearts;|\n",
            "|    max|https://www.sears...|         24969374|            zzsounds|\n",
            "+-------+--------------------+-----------------+--------------------+\n",
            "\n"
          ]
        }
      ],
      "source": [
        "newdf.describe().show()"
      ]
    },
    {
      "cell_type": "code",
      "execution_count": null,
      "id": "38b8a268",
      "metadata": {
        "id": "38b8a268"
      },
      "outputs": [],
      "source": [
        "newdf_gr = newdf.groupBy('ClickURL').count()"
      ]
    },
    {
      "cell_type": "code",
      "execution_count": null,
      "id": "c3c67fbd",
      "metadata": {
        "colab": {
          "base_uri": "https://localhost:8080/"
        },
        "id": "c3c67fbd",
        "outputId": "5e9cb456-17c1-47b7-bd0a-e6bdd656fe28"
      },
      "outputs": [
        {
          "output_type": "stream",
          "name": "stdout",
          "text": [
            "+--------------------+-----+\n",
            "|            ClickURL|count|\n",
            "+--------------------+-----+\n",
            "|http://blogs.sun.com|   10|\n",
            "|http://cws.intern...|   10|\n",
            "|http://boards.mod...|   10|\n",
            "|http://ajp.psychi...|   10|\n",
            "|http://boggleswor...|   10|\n",
            "|http://209.157.64...|   10|\n",
            "|http://bronx.area...|   10|\n",
            "|http://aol.career...|   10|\n",
            "|http://brooklynny...|   10|\n",
            "|http://auctionfir...|   10|\n",
            "|http://browse.bar...|   10|\n",
            "|http://autos.grou...|   10|\n",
            "|http://cagle.msnb...|   10|\n",
            "|http://bestest.in.ua|   10|\n",
            "|     http://ccsd.net|   10|\n",
            "|http://cla.calpol...|   10|\n",
            "|http://customwhee...|   10|\n",
            "|http://classics.m...|   10|\n",
            "|http://arpa.allen...|   10|\n",
            "|http://coins.sear...|   10|\n",
            "+--------------------+-----+\n",
            "only showing top 20 rows\n",
            "\n"
          ]
        }
      ],
      "source": [
        "newdf_gr.sort('count',ascending=True).show()"
      ]
    },
    {
      "cell_type": "code",
      "execution_count": null,
      "id": "c7adbaf5",
      "metadata": {
        "id": "c7adbaf5"
      },
      "outputs": [],
      "source": [
        "query_gr_by = newdf.groupBy('Query').count()"
      ]
    },
    {
      "cell_type": "code",
      "execution_count": null,
      "id": "3283ade1",
      "metadata": {
        "colab": {
          "base_uri": "https://localhost:8080/"
        },
        "id": "3283ade1",
        "outputId": "572b6fa7-365c-40e0-986c-24a7efc35ee9"
      },
      "outputs": [
        {
          "output_type": "stream",
          "name": "stdout",
          "text": [
            "+--------------------+-----+\n",
            "|               Query|count|\n",
            "+--------------------+-----+\n",
            "|                   -| 5799|\n",
            "|       sexy swimwear|  130|\n",
            "|          horoscopes|   63|\n",
            "| natural busty women|   60|\n",
            "|           camel toe|   60|\n",
            "|            swimwear|   59|\n",
            "|porn old women ha...|   56|\n",
            "|         beastiality|   56|\n",
            "|          nude girls|   55|\n",
            "| sexy women swimwear|   51|\n",
            "| donnie mcclurkin cd|   49|\n",
            "|      sheer swimwear|   48|\n",
            "|   cabinets for cd's|   47|\n",
            "|    donnie mcclurkin|   46|\n",
            "|us air force figh...|   44|\n",
            "|           teens sex|   44|\n",
            "|         naked girls|   42|\n",
            "|          mother sex|   42|\n",
            "|             myspace|   42|\n",
            "|          sexy women|   41|\n",
            "+--------------------+-----+\n",
            "only showing top 20 rows\n",
            "\n"
          ]
        }
      ],
      "source": [
        "query_gr_by.sort('count',ascending=False).show()"
      ]
    },
    {
      "cell_type": "code",
      "execution_count": null,
      "id": "0896ecc8",
      "metadata": {
        "id": "0896ecc8"
      },
      "outputs": [],
      "source": [
        "reduce_newdf = newdf.where(newdf.Query !='-')"
      ]
    },
    {
      "cell_type": "code",
      "execution_count": null,
      "id": "6e6cc489",
      "metadata": {
        "id": "6e6cc489"
      },
      "outputs": [],
      "source": [
        "query_gr_by1 = query_gr_by.groupBy('count').count()"
      ]
    },
    {
      "cell_type": "code",
      "execution_count": null,
      "id": "6809b884",
      "metadata": {
        "colab": {
          "base_uri": "https://localhost:8080/"
        },
        "id": "6809b884",
        "outputId": "acac8588-a9bc-47d5-ab26-3058f1a7db6f"
      },
      "outputs": [
        {
          "output_type": "stream",
          "name": "stdout",
          "text": [
            "+-----+------+\n",
            "|count| count|\n",
            "+-----+------+\n",
            "|    1|239795|\n",
            "|    2| 66373|\n",
            "|    3| 25224|\n",
            "|    4| 11040|\n",
            "|    5|  5461|\n",
            "|    6|  2976|\n",
            "|    7|  1657|\n",
            "|    8|  1076|\n",
            "|    9|   648|\n",
            "|   10|   432|\n",
            "|   11|   281|\n",
            "|   12|   225|\n",
            "|   13|   174|\n",
            "|   14|   136|\n",
            "|   15|    92|\n",
            "|   16|    46|\n",
            "|   17|    55|\n",
            "|   18|    48|\n",
            "|   19|    40|\n",
            "|   20|    25|\n",
            "+-----+------+\n",
            "only showing top 20 rows\n",
            "\n"
          ]
        }
      ],
      "source": [
        "query_gr_by1.sort('count',ascending=True).show()"
      ]
    },
    {
      "cell_type": "code",
      "execution_count": null,
      "id": "7e090ffa",
      "metadata": {
        "colab": {
          "base_uri": "https://localhost:8080/"
        },
        "id": "7e090ffa",
        "outputId": "d4dcf442-8fd9-4bce-bf38-bdce71f3ba27"
      },
      "outputs": [
        {
          "output_type": "stream",
          "name": "stdout",
          "text": [
            "+--------------------+--------+--------------------+\n",
            "|            ClickURL|  AnonID|               Query|\n",
            "+--------------------+--------+--------------------+\n",
            "|http://123-baby-n...| 3954631|   meaning of tanaya|\n",
            "|http://123-baby-n...| 3254007|      baby boy names|\n",
            "|http://123-baby-n...|  471426|filipino baby gir...|\n",
            "|http://123-baby-n...| 5876265|    baby girls names|\n",
            "|http://123-baby-n...|23317283|meaning of jayla ...|\n",
            "|http://123-baby-n...| 7273463|       name meanings|\n",
            "|http://123-baby-n...|  471426|     baby girl names|\n",
            "|http://123-baby-n...| 2530372|      baby names.com|\n",
            "|http://123-baby-n...|  447315|          baby names|\n",
            "|http://123-baby-n...| 9016154|           names.com|\n",
            "|http://123-baby-n...|16335807| the meaning of fire|\n",
            "|http://123-baby-n...| 5231713|           babynames|\n",
            "|http://1stholisti...|  731913|defensiveness rel...|\n",
            "|http://1stholisti...| 2867750|prayer for forgiv...|\n",
            "|http://1stholisti...|   76931|easter treats for...|\n",
            "|http://1stholisti...| 4237758|simple carbohydrates|\n",
            "|http://1stholisti...| 1016497|   natural cosmetics|\n",
            "|http://1stholisti...|  843043| prayer for the sick|\n",
            "|http://1stholisti...| 2734672|wal mart ocean na...|\n",
            "|http://1stholisti...|  883580|www.markbrandenbu...|\n",
            "+--------------------+--------+--------------------+\n",
            "only showing top 20 rows\n",
            "\n"
          ]
        }
      ],
      "source": [
        "reduce_newdf.show()"
      ]
    },
    {
      "cell_type": "code",
      "execution_count": null,
      "id": "74f5ca5a",
      "metadata": {
        "id": "74f5ca5a"
      },
      "outputs": [],
      "source": [
        "id_gr_by8 = reduce_newdf.groupBy('AnonID').count()"
      ]
    },
    {
      "cell_type": "code",
      "execution_count": null,
      "id": "7fca4d8f",
      "metadata": {
        "colab": {
          "base_uri": "https://localhost:8080/"
        },
        "id": "7fca4d8f",
        "outputId": "ec749b96-2dc7-4c85-cd58-5668b2991640"
      },
      "outputs": [
        {
          "output_type": "stream",
          "name": "stdout",
          "text": [
            "+-------+-----+\n",
            "| AnonID|count|\n",
            "+-------+-----+\n",
            "| 843043| 1049|\n",
            "|  91602|  977|\n",
            "|1750999|  842|\n",
            "| 377137|  796|\n",
            "| 118401|  678|\n",
            "|1890315|  676|\n",
            "|2814361|  671|\n",
            "|2846780|  636|\n",
            "| 949253|  545|\n",
            "| 929313|  541|\n",
            "| 576123|  536|\n",
            "|3233989|  521|\n",
            "|3571966|  515|\n",
            "| 966721|  509|\n",
            "| 186465|  502|\n",
            "|2416053|  486|\n",
            "| 436161|  479|\n",
            "|  39509|  459|\n",
            "| 239836|  459|\n",
            "| 553197|  456|\n",
            "+-------+-----+\n",
            "only showing top 20 rows\n",
            "\n"
          ]
        }
      ],
      "source": [
        "id_gr_by8.sort('count',ascending=False).show()"
      ]
    },
    {
      "cell_type": "code",
      "execution_count": null,
      "id": "38787530",
      "metadata": {
        "id": "38787530"
      },
      "outputs": [],
      "source": [
        "query_gr_by4 = reduce_newdf.groupBy('Query').count()"
      ]
    },
    {
      "cell_type": "code",
      "execution_count": null,
      "id": "cd57c3d8",
      "metadata": {
        "colab": {
          "base_uri": "https://localhost:8080/"
        },
        "id": "cd57c3d8",
        "outputId": "36622c53-abbf-465c-8646-753f207a95dd"
      },
      "outputs": [
        {
          "output_type": "stream",
          "name": "stdout",
          "text": [
            "+--------------------+-----+\n",
            "|               Query|count|\n",
            "+--------------------+-----+\n",
            "|       sexy swimwear|  130|\n",
            "|          horoscopes|   63|\n",
            "|           camel toe|   60|\n",
            "| natural busty women|   60|\n",
            "|            swimwear|   59|\n",
            "|porn old women ha...|   56|\n",
            "|         beastiality|   56|\n",
            "|          nude girls|   55|\n",
            "| sexy women swimwear|   51|\n",
            "| donnie mcclurkin cd|   49|\n",
            "|      sheer swimwear|   48|\n",
            "|   cabinets for cd's|   47|\n",
            "|    donnie mcclurkin|   46|\n",
            "|           teens sex|   44|\n",
            "|us air force figh...|   44|\n",
            "|         naked girls|   42|\n",
            "|             myspace|   42|\n",
            "|          mother sex|   42|\n",
            "|          sexy women|   41|\n",
            "|                 sex|   39|\n",
            "+--------------------+-----+\n",
            "only showing top 20 rows\n",
            "\n"
          ]
        }
      ],
      "source": [
        "query_gr_by4.sort('count',ascending=False).show()"
      ]
    },
    {
      "cell_type": "code",
      "execution_count": null,
      "id": "ecfff547",
      "metadata": {
        "id": "ecfff547"
      },
      "outputs": [],
      "source": [
        "reduce_query_df = query_gr_by4.where('count < 10')"
      ]
    },
    {
      "cell_type": "code",
      "execution_count": null,
      "id": "99e7491d",
      "metadata": {
        "colab": {
          "base_uri": "https://localhost:8080/"
        },
        "id": "99e7491d",
        "outputId": "b6291a38-3104-4170-a7de-47b88f04d414"
      },
      "outputs": [
        {
          "output_type": "stream",
          "name": "stdout",
          "text": [
            "+--------------------+-----+\n",
            "|               Query|count|\n",
            "+--------------------+-----+\n",
            "|free live cams of...|    9|\n",
            "|        hypoglycemia|    9|\n",
            "|     symptoms of pku|    9|\n",
            "|         catfighting|    9|\n",
            "|        easter bread|    9|\n",
            "|           ertha kit|    9|\n",
            "|      v for vendetta|    9|\n",
            "|follicle stimulat...|    9|\n",
            "|           dana hamm|    9|\n",
            "|         dirty jokes|    9|\n",
            "|2000 mustang 16 c...|    9|\n",
            "|         asian girls|    9|\n",
            "|margate new jerse...|    9|\n",
            "|           beta fish|    9|\n",
            "|jones beach long ...|    9|\n",
            "|free criminal rec...|    9|\n",
            "|1964 chevelle tru...|    9|\n",
            "|  pregnancy calendar|    9|\n",
            "|   tony moll packers|    9|\n",
            "|    vital statistics|    9|\n",
            "+--------------------+-----+\n",
            "only showing top 20 rows\n",
            "\n"
          ]
        }
      ],
      "source": [
        "reduce_query_df.sort('count',ascending=False).show()"
      ]
    },
    {
      "cell_type": "code",
      "execution_count": null,
      "id": "8145bd0a",
      "metadata": {
        "colab": {
          "base_uri": "https://localhost:8080/"
        },
        "id": "8145bd0a",
        "outputId": "a7e259ec-7ae1-427c-a392-8eb85f121181"
      },
      "outputs": [
        {
          "output_type": "stream",
          "name": "stdout",
          "text": [
            "+-------+--------------------+------------------+\n",
            "|summary|               Query|             count|\n",
            "+-------+--------------------+------------------+\n",
            "|  count|              354250|            354250|\n",
            "|   mean|8.631772417448897E15|1.5908906139731829|\n",
            "| stddev|9.096519030829472E16|1.1377493891473633|\n",
            "|    min|            &hearts;|                 1|\n",
            "|    max|            zzsounds|                 9|\n",
            "+-------+--------------------+------------------+\n",
            "\n"
          ]
        }
      ],
      "source": [
        "reduce_query_df.describe().show()"
      ]
    },
    {
      "cell_type": "code",
      "execution_count": null,
      "id": "4c324f2c",
      "metadata": {
        "colab": {
          "base_uri": "https://localhost:8080/"
        },
        "id": "4c324f2c",
        "outputId": "fd133511-4b18-4b82-8355-dd2a459264a7"
      },
      "outputs": [
        {
          "output_type": "stream",
          "name": "stdout",
          "text": [
            "+-------+--------------------+-----------------+--------------------+\n",
            "|summary|            ClickURL|           AnonID|               Query|\n",
            "+-------+--------------------+-----------------+--------------------+\n",
            "|  count|              587575|           587575|              587575|\n",
            "|   mean|                null|5915998.611515126|7.009694387721236E15|\n",
            "| stddev|                null|5408986.549569618|8.197948293694032E16|\n",
            "|    min|http://1.myfreebu...|              142|            &hearts;|\n",
            "|    max|https://www.sears...|         24969374|            zzsounds|\n",
            "+-------+--------------------+-----------------+--------------------+\n",
            "\n"
          ]
        }
      ],
      "source": [
        "reduce_newdf.describe().show()"
      ]
    },
    {
      "cell_type": "code",
      "execution_count": null,
      "id": "a60878f5",
      "metadata": {
        "colab": {
          "base_uri": "https://localhost:8080/"
        },
        "id": "a60878f5",
        "outputId": "eb4a3645-5dc4-4fe1-fb01-3e9761245089"
      },
      "outputs": [
        {
          "output_type": "stream",
          "name": "stdout",
          "text": [
            "+--------------------+--------+--------------------+\n",
            "|            ClickURL|  AnonID|               Query|\n",
            "+--------------------+--------+--------------------+\n",
            "|http://123-baby-n...| 3954631|   meaning of tanaya|\n",
            "|http://123-baby-n...| 3254007|      baby boy names|\n",
            "|http://123-baby-n...|  471426|filipino baby gir...|\n",
            "|http://123-baby-n...| 5876265|    baby girls names|\n",
            "|http://123-baby-n...|23317283|meaning of jayla ...|\n",
            "|http://123-baby-n...| 7273463|       name meanings|\n",
            "|http://123-baby-n...|  471426|     baby girl names|\n",
            "|http://123-baby-n...| 2530372|      baby names.com|\n",
            "|http://123-baby-n...|  447315|          baby names|\n",
            "|http://123-baby-n...| 9016154|           names.com|\n",
            "|http://123-baby-n...|16335807| the meaning of fire|\n",
            "|http://123-baby-n...| 5231713|           babynames|\n",
            "|http://1stholisti...|  731913|defensiveness rel...|\n",
            "|http://1stholisti...| 2867750|prayer for forgiv...|\n",
            "|http://1stholisti...|   76931|easter treats for...|\n",
            "|http://1stholisti...| 4237758|simple carbohydrates|\n",
            "|http://1stholisti...| 1016497|   natural cosmetics|\n",
            "|http://1stholisti...|  843043| prayer for the sick|\n",
            "|http://1stholisti...| 2734672|wal mart ocean na...|\n",
            "|http://1stholisti...|  883580|www.markbrandenbu...|\n",
            "+--------------------+--------+--------------------+\n",
            "only showing top 20 rows\n",
            "\n"
          ]
        }
      ],
      "source": [
        "reduce_newdf.show()"
      ]
    },
    {
      "cell_type": "code",
      "execution_count": null,
      "id": "cecba4be",
      "metadata": {
        "id": "cecba4be"
      },
      "outputs": [],
      "source": [
        "reduce_Q_And_URL_df = reduce_newdf.join(reduce_query_df,['Query'],'leftanti')"
      ]
    },
    {
      "cell_type": "code",
      "execution_count": null,
      "id": "b75e3027",
      "metadata": {
        "colab": {
          "base_uri": "https://localhost:8080/"
        },
        "id": "b75e3027",
        "outputId": "6c1e150c-09b8-4071-b54a-22753a8a5362"
      },
      "outputs": [
        {
          "output_type": "stream",
          "name": "stdout",
          "text": [
            "+--------------------+-----+\n",
            "|            ClickURL|count|\n",
            "+--------------------+-----+\n",
            "|http://www.maah-d...|    3|\n",
            "|http://www.diamon...|    3|\n",
            "|http://www.eroden...|    2|\n",
            "|http://www.thecit...|    6|\n",
            "|http://www.celebr...|    3|\n",
            "|http://www.gayont...|    8|\n",
            "|http://www.ohiohi...|    9|\n",
            "|  http://www.cctc.ca|    1|\n",
            "|http://www.scps.k...|    8|\n",
            "|http://www.steveb...|    2|\n",
            "|http://www.savage...|    1|\n",
            "|http://www.tropic...|    2|\n",
            "|http://www.advent...|    1|\n",
            "|http://www.reming...|    4|\n",
            "|http://www.pregna...|    7|\n",
            "|http://www.rabour...|    1|\n",
            "|http://www.baseme...|    4|\n",
            "|http://www.addieh...|    1|\n",
            "|http://www.simvia...|    7|\n",
            "|http://nongae.gsn...|    1|\n",
            "+--------------------+-----+\n",
            "only showing top 20 rows\n",
            "\n"
          ]
        }
      ],
      "source": [
        "reduce_freqdf.show()"
      ]
    },
    {
      "cell_type": "code",
      "execution_count": null,
      "id": "406f5f6e",
      "metadata": {
        "colab": {
          "base_uri": "https://localhost:8080/"
        },
        "id": "406f5f6e",
        "outputId": "21925ca9-a251-4146-8b07-ab3e9bf6585a"
      },
      "outputs": [
        {
          "output_type": "stream",
          "name": "stdout",
          "text": [
            "+--------------------+-----+\n",
            "|               Query|count|\n",
            "+--------------------+-----+\n",
            "|metaphor lesson plan|    6|\n",
            "|        jeep history|    1|\n",
            "|   eaden pure heater|    3|\n",
            "|nickelback chords...|    1|\n",
            "|     hotsausagepizza|    1|\n",
            "|               izzie|    1|\n",
            "|gay lesbian cruis...|    2|\n",
            "|britney spears re...|    6|\n",
            "|    abc good morning|    1|\n",
            "|   russian blue cats|    2|\n",
            "|willaim rowan ham...|    1|\n",
            "|      wwgateway com.|    2|\n",
            "|spoilers for all ...|    2|\n",
            "|jesse mccartney h...|    1|\n",
            "|peanut butter coo...|    5|\n",
            "|        rice recipes|    1|\n",
            "|religious symbols...|    1|\n",
            "|relationships and...|    1|\n",
            "|adult book stores...|    1|\n",
            "|sbc help resident...|    1|\n",
            "+--------------------+-----+\n",
            "only showing top 20 rows\n",
            "\n"
          ]
        }
      ],
      "source": [
        "reduce_query_df.show()"
      ]
    },
    {
      "cell_type": "code",
      "execution_count": null,
      "id": "cc056edb",
      "metadata": {
        "colab": {
          "base_uri": "https://localhost:8080/"
        },
        "id": "cc056edb",
        "outputId": "fe4d2b69-b35f-4932-b4d6-d306fc014c8c"
      },
      "outputs": [
        {
          "output_type": "stream",
          "name": "stdout",
          "text": [
            "+--------------------+--------------------+--------+\n",
            "|               Query|            ClickURL|  AnonID|\n",
            "+--------------------+--------------------+--------+\n",
            "|            cock.com|http://1.myfreebu...|  124220|\n",
            "|       sucking girls|http://1.myfreebu...| 8178598|\n",
            "|free topless fili...|http://1.myfreebu...|   68355|\n",
            "|          beastality|http://1.myfreebu...| 2411742|\n",
            "|       granny thumbs|http://1.myfreebu...|10316621|\n",
            "|dads fucking ther...|http://1.myfreebu...|10244168|\n",
            "|             bontril|http://1.myfreebu...| 9472743|\n",
            "|       free web cams|http://1.myfreebu...| 5808557|\n",
            "|         phentermine|http://1.myfreebu...| 2240301|\n",
            "|          mother sex|http://1.myfreebu...| 7850394|\n",
            "|free pics underag...|http://1.myfreebu...| 9351876|\n",
            "|            porn.com|http://1.myfreebu...| 2900747|\n",
            "|pharmacies with n...|http://1.myfreebu...| 9472743|\n",
            "|          animal sex|http://1.myfreebu...| 6925721|\n",
            "|          baby names|http://123-baby-n...|  447315|\n",
            "|       name meanings|http://123-baby-n...| 7273463|\n",
            "|         mothers day|http://123greetin...|  544176|\n",
            "|graduation party ...|http://123greetin...|  761849|\n",
            "|        mother's day|http://123greetin...| 9339942|\n",
            "|free birthday e-c...|http://123greetin...| 5735272|\n",
            "+--------------------+--------------------+--------+\n",
            "only showing top 20 rows\n",
            "\n"
          ]
        }
      ],
      "source": [
        "reduce_Q_And_URL_df.sort('ClickURL').show()"
      ]
    },
    {
      "cell_type": "code",
      "execution_count": null,
      "id": "5f3aeb16",
      "metadata": {
        "colab": {
          "base_uri": "https://localhost:8080/"
        },
        "id": "5f3aeb16",
        "outputId": "f7c654bc-6b13-4ead-c2ed-9a2206e73e77"
      },
      "outputs": [
        {
          "output_type": "stream",
          "name": "stdout",
          "text": [
            "+-------+--------------------+--------------------+------------------+\n",
            "|summary|               Query|            ClickURL|            AnonID|\n",
            "+-------+--------------------+--------------------+------------------+\n",
            "|  count|               24002|               24002|             24002|\n",
            "|   mean|                null|                null| 5248769.234147155|\n",
            "| stddev|                null|                null|4997295.3717906065|\n",
            "|    min|100 top rock n ro...|http://1.myfreebu...|               217|\n",
            "|    max|         zena fulsom|https://www.hertz...|          24897122|\n",
            "+-------+--------------------+--------------------+------------------+\n",
            "\n"
          ]
        }
      ],
      "source": [
        "reduce_Q_And_URL_df.describe().show()"
      ]
    },
    {
      "cell_type": "code",
      "execution_count": null,
      "id": "c437af60",
      "metadata": {
        "id": "c437af60"
      },
      "outputs": [],
      "source": [
        "query_gr_by5 = reduce_Q_And_URL_df.groupBy('Query').count()"
      ]
    },
    {
      "cell_type": "code",
      "execution_count": null,
      "id": "e0815b78",
      "metadata": {
        "colab": {
          "base_uri": "https://localhost:8080/"
        },
        "id": "e0815b78",
        "outputId": "928d7a1d-f40d-4cfb-b405-e9e7d42c818e"
      },
      "outputs": [
        {
          "output_type": "stream",
          "name": "stdout",
          "text": [
            "+--------------------+-----+\n",
            "|               Query|count|\n",
            "+--------------------+-----+\n",
            "|       sexy swimwear|  130|\n",
            "|          horoscopes|   63|\n",
            "| natural busty women|   60|\n",
            "|           camel toe|   60|\n",
            "|            swimwear|   59|\n",
            "|porn old women ha...|   56|\n",
            "|         beastiality|   56|\n",
            "|          nude girls|   55|\n",
            "| sexy women swimwear|   51|\n",
            "| donnie mcclurkin cd|   49|\n",
            "|      sheer swimwear|   48|\n",
            "|   cabinets for cd's|   47|\n",
            "|    donnie mcclurkin|   46|\n",
            "|           teens sex|   44|\n",
            "|us air force figh...|   44|\n",
            "|             myspace|   42|\n",
            "|         naked girls|   42|\n",
            "|          mother sex|   42|\n",
            "|          sexy women|   41|\n",
            "|       mature blonde|   39|\n",
            "+--------------------+-----+\n",
            "only showing top 20 rows\n",
            "\n"
          ]
        }
      ],
      "source": [
        "query_gr_by5.sort('count',ascending=False).show()"
      ]
    },
    {
      "cell_type": "code",
      "execution_count": null,
      "id": "99867cb5",
      "metadata": {
        "id": "99867cb5"
      },
      "outputs": [],
      "source": [
        "query_gr_by6 = reduce_Q_And_URL_df.groupBy('ClickURL').count()"
      ]
    },
    {
      "cell_type": "code",
      "execution_count": null,
      "id": "8715382b",
      "metadata": {
        "colab": {
          "base_uri": "https://localhost:8080/"
        },
        "id": "8715382b",
        "outputId": "2bb31cf0-7cea-4e14-875b-21d6c324d4ae"
      },
      "outputs": [
        {
          "output_type": "stream",
          "name": "stdout",
          "text": [
            "+--------------------+-----+\n",
            "|            ClickURL|count|\n",
            "+--------------------+-----+\n",
            "|http://www.amazon...|  215|\n",
            "|http://en.wikiped...|  215|\n",
            "| http://www.imdb.com|  152|\n",
            "|http://www.bizrat...|   91|\n",
            "|http://www.nextag...|   84|\n",
            "|http://www.answer...|   77|\n",
            "|http://shopping.m...|   73|\n",
            "|http://www.geocit...|   71|\n",
            "|http://www.flickr...|   67|\n",
            "|http://h1.ripway.com|   65|\n",
            "|http://www.wannab...|   65|\n",
            "| http://cgi.ebay.com|   60|\n",
            "|    http://mujweb.cz|   58|\n",
            "|http://www.republ...|   56|\n",
            "|http://mywebpage....|   55|\n",
            "|http://dir.yahoo.com|   54|\n",
            "|http://www.findar...|   54|\n",
            "|   http://www.tv.com|   46|\n",
            "|     http://dmoz.org|   45|\n",
            "|http://www.starpu...|   44|\n",
            "+--------------------+-----+\n",
            "only showing top 20 rows\n",
            "\n"
          ]
        }
      ],
      "source": [
        "query_gr_by6.sort('count',ascending=False).show()"
      ]
    },
    {
      "cell_type": "code",
      "execution_count": null,
      "id": "dfb8c0c6",
      "metadata": {
        "id": "dfb8c0c6"
      },
      "outputs": [],
      "source": [
        "q_df = reduce_Q_And_URL_df.dropDuplicates(['Query'])"
      ]
    },
    {
      "cell_type": "code",
      "execution_count": null,
      "id": "e6d5d5fd",
      "metadata": {
        "colab": {
          "base_uri": "https://localhost:8080/"
        },
        "id": "e6d5d5fd",
        "outputId": "580bdacf-0e48-45e2-bdc0-8ee0421eb2b2"
      },
      "outputs": [
        {
          "output_type": "stream",
          "name": "stdout",
          "text": [
            "+-------+--------------------+--------------------+-----------------+\n",
            "|summary|               Query|            ClickURL|           AnonID|\n",
            "+-------+--------------------+--------------------+-----------------+\n",
            "|  count|                1708|                1708|             1708|\n",
            "|   mean|                null|                null|5445574.616510538|\n",
            "| stddev|                null|                null|5004901.495788964|\n",
            "|    min|100 top rock n ro...|http://123-baby-n...|             8763|\n",
            "|    max|         zena fulsom|http://www.webmd.com|         24715903|\n",
            "+-------+--------------------+--------------------+-----------------+\n",
            "\n"
          ]
        }
      ],
      "source": [
        "q_df.describe().show()"
      ]
    },
    {
      "cell_type": "code",
      "execution_count": null,
      "id": "411a854d",
      "metadata": {
        "id": "411a854d"
      },
      "outputs": [],
      "source": [
        "u_df = reduce_Q_And_URL_df.dropDuplicates(['ClickURL'])"
      ]
    },
    {
      "cell_type": "code",
      "execution_count": null,
      "id": "69a5f985",
      "metadata": {
        "colab": {
          "base_uri": "https://localhost:8080/"
        },
        "id": "69a5f985",
        "outputId": "8d517663-f90c-46cd-8358-d9c9c2b4bc52"
      },
      "outputs": [
        {
          "output_type": "stream",
          "name": "stdout",
          "text": [
            "+-------+--------------------+--------------------+-----------------+\n",
            "|summary|               Query|            ClickURL|           AnonID|\n",
            "+-------+--------------------+--------------------+-----------------+\n",
            "|  count|                7587|                7587|             7587|\n",
            "|   mean|                null|                null|5175612.193225253|\n",
            "| stddev|                null|                null|4917207.957981521|\n",
            "|    min|100 top rock n ro...|http://1.myfreebu...|             2005|\n",
            "|    max|       zebo pitbulls|https://www.hertz...|         24830167|\n",
            "+-------+--------------------+--------------------+-----------------+\n",
            "\n"
          ]
        }
      ],
      "source": [
        "u_df.describe().show()"
      ]
    },
    {
      "cell_type": "code",
      "execution_count": null,
      "id": "447f8db3",
      "metadata": {
        "colab": {
          "base_uri": "https://localhost:8080/"
        },
        "id": "447f8db3",
        "outputId": "8fc5f69c-c1f7-47a9-801b-f5ce6b6b1b3b"
      },
      "outputs": [
        {
          "output_type": "stream",
          "name": "stdout",
          "text": [
            "+--------------------+--------------------+--------+\n",
            "|               Query|            ClickURL|  AnonID|\n",
            "+--------------------+--------------------+--------+\n",
            "|            cock.com|http://1.myfreebu...|  124220|\n",
            "|       sucking girls|http://1.myfreebu...| 8178598|\n",
            "|free topless fili...|http://1.myfreebu...|   68355|\n",
            "|          beastality|http://1.myfreebu...| 2411742|\n",
            "|       granny thumbs|http://1.myfreebu...|10316621|\n",
            "|dads fucking ther...|http://1.myfreebu...|10244168|\n",
            "|             bontril|http://1.myfreebu...| 9472743|\n",
            "|       free web cams|http://1.myfreebu...| 5808557|\n",
            "|         phentermine|http://1.myfreebu...| 2240301|\n",
            "|          mother sex|http://1.myfreebu...| 7850394|\n",
            "|free pics underag...|http://1.myfreebu...| 9351876|\n",
            "|            porn.com|http://1.myfreebu...| 2900747|\n",
            "|pharmacies with n...|http://1.myfreebu...| 9472743|\n",
            "|          animal sex|http://1.myfreebu...| 6925721|\n",
            "|          baby names|http://123-baby-n...|  447315|\n",
            "|       name meanings|http://123-baby-n...| 7273463|\n",
            "|         mothers day|http://123greetin...|  544176|\n",
            "|graduation party ...|http://123greetin...|  761849|\n",
            "|        mother's day|http://123greetin...| 9339942|\n",
            "|free birthday e-c...|http://123greetin...| 5735272|\n",
            "+--------------------+--------------------+--------+\n",
            "only showing top 20 rows\n",
            "\n"
          ]
        }
      ],
      "source": [
        "reduce_Q_And_URL_df.sort('ClickURL').show()"
      ]
    },
    {
      "cell_type": "code",
      "execution_count": null,
      "id": "cc7e6702",
      "metadata": {
        "id": "cc7e6702"
      },
      "outputs": [],
      "source": [
        "#we need to transform Query to set for each unique URL"
      ]
    },
    {
      "cell_type": "code",
      "execution_count": null,
      "id": "b781ad7b",
      "metadata": {
        "id": "b781ad7b"
      },
      "outputs": [],
      "source": [
        "#df_for_model = reduce_Q_And_URL_df.groupby(\"ClickURL\").agg(F.collect_set(\"Query\"),F.collect_set(\"AnonID\"))"
      ]
    },
    {
      "cell_type": "code",
      "source": [
        "df_for_model2 = reduce_Q_And_URL_df.groupby(\"ClickURL\").agg(F.collect_set(\"Query\"))"
      ],
      "metadata": {
        "id": "DmXDsFn9wgEU"
      },
      "id": "DmXDsFn9wgEU",
      "execution_count": null,
      "outputs": []
    },
    {
      "cell_type": "code",
      "source": [
        "df_for_model2.show()"
      ],
      "metadata": {
        "colab": {
          "base_uri": "https://localhost:8080/"
        },
        "id": "YL8_JTe7w3QU",
        "outputId": "473f76b3-8793-447e-812b-a87d02fc8773"
      },
      "id": "YL8_JTe7w3QU",
      "execution_count": null,
      "outputs": [
        {
          "output_type": "stream",
          "name": "stdout",
          "text": [
            "+--------------------+--------------------+\n",
            "|            ClickURL|  collect_set(Query)|\n",
            "+--------------------+--------------------+\n",
            "|http://1.myfreebu...|[sucking girls, b...|\n",
            "|http://123-baby-n...|[baby names, name...|\n",
            "|http://123greetin...|[graduation party...|\n",
            "|http://1stholisti...|[easter treats fo...|\n",
            "|http://209.157.64...|[long island plan...|\n",
            "|     http://20six.de| [prom updos, updos]|\n",
            "|http://360.yahoo.com|[www.letstalkhone...|\n",
            "|     http://3d2f.com|[free adult games...|\n",
            "|http://42explore.com|[100 top rock n r...|\n",
            "|http://4wheeldriv...|         [1979 jeep]|\n",
            "| http://50.lycos.com|  [tattoo of sharks]|\n",
            "| http://64.41.125.45|   [tommysbookmarks]|\n",
            "| http://67.18.47.148|[picture of myth ...|\n",
            "|http://aa.usno.na...|            [easter]|\n",
            "|http://abbys-sexu...|[sex positions, p...|\n",
            "|   http://abc.go.com|[judas, stacy kei...|\n",
            "|http://abclocal.g...|[genovese 32, chr...|\n",
            "|http://abcnews.co...|[free treasure ma...|\n",
            "|http://abcnews.go...|[news, dollar sto...|\n",
            "|http://abes-celeb...|[heather locklear...|\n",
            "+--------------------+--------------------+\n",
            "only showing top 20 rows\n",
            "\n"
          ]
        }
      ]
    },
    {
      "cell_type": "code",
      "execution_count": null,
      "id": "fb501d04",
      "metadata": {
        "colab": {
          "base_uri": "https://localhost:8080/"
        },
        "id": "fb501d04",
        "outputId": "1e256005-97fd-4b74-c432-cfc3f76731cc"
      },
      "outputs": [
        {
          "output_type": "stream",
          "name": "stdout",
          "text": [
            "+--------------------+--------------------+--------------------+\n",
            "|            ClickURL|  collect_set(Query)| collect_set(AnonID)|\n",
            "+--------------------+--------------------+--------------------+\n",
            "|http://1.myfreebu...|[sucking girls, b...|[9351876, 2900747...|\n",
            "|http://123-baby-n...|[baby names, name...|   [7273463, 447315]|\n",
            "|http://123greetin...|[graduation party...|[761849, 5735272,...|\n",
            "|http://1stholisti...|[easter treats fo...|             [76931]|\n",
            "|http://209.157.64...|[long island plan...|           [8892654]|\n",
            "|     http://20six.de| [prom updos, updos]|  [6403158, 6982324]|\n",
            "|http://360.yahoo.com|[www.letstalkhone...|           [1018256]|\n",
            "|     http://3d2f.com|[free adult games...|           [1209670]|\n",
            "|http://42explore.com|[100 top rock n r...|           [7334666]|\n",
            "|http://4wheeldriv...|         [1979 jeep]|           [1754469]|\n",
            "| http://50.lycos.com|  [tattoo of sharks]|          [17536861]|\n",
            "| http://64.41.125.45|   [tommysbookmarks]|          [10379280]|\n",
            "| http://67.18.47.148|[picture of myth ...|  [6484106, 1016497]|\n",
            "|http://aa.usno.na...|            [easter]|           [1368157]|\n",
            "|http://abbys-sexu...|[sex positions, p...|  [16637764, 966721]|\n",
            "|   http://abc.go.com|[judas, stacy kei...|[2323994, 1158301...|\n",
            "|http://abclocal.g...|[genovese 32, chr...|[6609799, 4036668...|\n",
            "|http://abcnews.co...|[free treasure ma...|[164816, 4847618,...|\n",
            "|http://abcnews.go...|[news, dollar sto...|[1411102, 975975,...|\n",
            "|http://abes-celeb...|[heather locklear...|  [11271169, 148248]|\n",
            "+--------------------+--------------------+--------------------+\n",
            "only showing top 20 rows\n",
            "\n"
          ]
        }
      ],
      "source": [
        "df_for_model.show()"
      ]
    },
    {
      "cell_type": "code",
      "source": [
        "set_Query = df_for_model.select(\"collect_set(Query)\")"
      ],
      "metadata": {
        "id": "vD6VbUtFkSoR"
      },
      "id": "vD6VbUtFkSoR",
      "execution_count": null,
      "outputs": []
    },
    {
      "cell_type": "code",
      "source": [
        "print(type(set_Query))"
      ],
      "metadata": {
        "colab": {
          "base_uri": "https://localhost:8080/"
        },
        "id": "NxWoziQ1tRhr",
        "outputId": "4923b2fb-c09c-4037-8818-1b47294f2323"
      },
      "id": "NxWoziQ1tRhr",
      "execution_count": null,
      "outputs": [
        {
          "output_type": "stream",
          "name": "stdout",
          "text": [
            "<class 'pyspark.sql.dataframe.DataFrame'>\n"
          ]
        }
      ]
    },
    {
      "cell_type": "code",
      "source": [
        "set_Query.show()"
      ],
      "metadata": {
        "colab": {
          "base_uri": "https://localhost:8080/"
        },
        "id": "38HRkZV0okka",
        "outputId": "2b2f98d3-afce-4c1f-b572-6e92f167cd62"
      },
      "id": "38HRkZV0okka",
      "execution_count": null,
      "outputs": [
        {
          "output_type": "stream",
          "name": "stdout",
          "text": [
            "+--------------------+\n",
            "|  collect_set(Query)|\n",
            "+--------------------+\n",
            "|[sucking girls, b...|\n",
            "|[baby names, name...|\n",
            "|[graduation party...|\n",
            "|[easter treats fo...|\n",
            "|[long island plan...|\n",
            "| [prom updos, updos]|\n",
            "|[www.letstalkhone...|\n",
            "|[free adult games...|\n",
            "|[100 top rock n r...|\n",
            "|         [1979 jeep]|\n",
            "|  [tattoo of sharks]|\n",
            "|   [tommysbookmarks]|\n",
            "|[picture of myth ...|\n",
            "|            [easter]|\n",
            "|[sex positions, p...|\n",
            "|[judas, stacy kei...|\n",
            "|[genovese 32, chr...|\n",
            "|[free treasure ma...|\n",
            "|[news, dollar sto...|\n",
            "|[heather locklear...|\n",
            "+--------------------+\n",
            "only showing top 20 rows\n",
            "\n"
          ]
        }
      ]
    },
    {
      "cell_type": "code",
      "source": [
        "set_Query.printSchema()"
      ],
      "metadata": {
        "colab": {
          "base_uri": "https://localhost:8080/"
        },
        "id": "aYChF1iGx2y2",
        "outputId": "c18d9f5f-9107-4a3c-c53b-f5a5e21d495e"
      },
      "id": "aYChF1iGx2y2",
      "execution_count": null,
      "outputs": [
        {
          "output_type": "stream",
          "name": "stdout",
          "text": [
            "root\n",
            " |-- collect_set(Query): array (nullable = false)\n",
            " |    |-- element: string (containsNull = false)\n",
            "\n"
          ]
        }
      ]
    },
    {
      "cell_type": "code",
      "execution_count": null,
      "id": "2ad87dc2",
      "metadata": {
        "id": "2ad87dc2",
        "outputId": "16766269-5644-4536-e885-72e278bbfd82"
      },
      "outputs": [
        {
          "name": "stderr",
          "output_type": "stream",
          "text": [
            "[Stage 633:>                                                        (0 + 4) / 4]\r"
          ]
        },
        {
          "name": "stdout",
          "output_type": "stream",
          "text": [
            "+-------+--------------------+\n",
            "|summary|            ClickURL|\n",
            "+-------+--------------------+\n",
            "|  count|                7587|\n",
            "|   mean|                null|\n",
            "| stddev|                null|\n",
            "|    min|http://1.myfreebu...|\n",
            "|    max|https://www.hertz...|\n",
            "+-------+--------------------+\n",
            "\n"
          ]
        },
        {
          "name": "stderr",
          "output_type": "stream",
          "text": [
            "\r",
            "                                                                                \r"
          ]
        }
      ],
      "source": [
        "df_for_model.describe().show()"
      ]
    },
    {
      "cell_type": "code",
      "source": [
        "from pyspark.sql.functions import col, concat_ws"
      ],
      "metadata": {
        "id": "UEGEdZ_AyRDA"
      },
      "id": "UEGEdZ_AyRDA",
      "execution_count": null,
      "outputs": []
    },
    {
      "cell_type": "code",
      "source": [
        "set_Query5 = set_Query.withColumn(\"collect_set(Query)\",concat_ws(\",\",col(\"collect_set(Query)\")))\n"
      ],
      "metadata": {
        "id": "IlpfoQXMybMw"
      },
      "id": "IlpfoQXMybMw",
      "execution_count": null,
      "outputs": []
    },
    {
      "cell_type": "code",
      "source": [
        "set_Query5.printSchema()"
      ],
      "metadata": {
        "colab": {
          "base_uri": "https://localhost:8080/"
        },
        "id": "-R5sN3x3ytHp",
        "outputId": "14194938-3cbb-4ae6-d919-1992061be803"
      },
      "id": "-R5sN3x3ytHp",
      "execution_count": null,
      "outputs": [
        {
          "output_type": "stream",
          "name": "stdout",
          "text": [
            "root\n",
            " |-- collect_set(Query): string (nullable = false)\n",
            "\n"
          ]
        }
      ]
    },
    {
      "cell_type": "code",
      "source": [
        "set_Query5.show()"
      ],
      "metadata": {
        "colab": {
          "base_uri": "https://localhost:8080/"
        },
        "id": "9WCJZnKfy4ia",
        "outputId": "2ee8d81c-4232-4955-bc73-ce7635204942"
      },
      "id": "9WCJZnKfy4ia",
      "execution_count": null,
      "outputs": [
        {
          "output_type": "stream",
          "name": "stdout",
          "text": [
            "+--------------------+\n",
            "|  collect_set(Query)|\n",
            "+--------------------+\n",
            "|sucking girls,bea...|\n",
            "|baby names,name m...|\n",
            "|graduation party ...|\n",
            "|easter treats for...|\n",
            "|long island plant...|\n",
            "|    prom updos,updos|\n",
            "|www.letstalkhones...|\n",
            "| free adult games pc|\n",
            "|100 top rock n ro...|\n",
            "|           1979 jeep|\n",
            "|    tattoo of sharks|\n",
            "|     tommysbookmarks|\n",
            "|picture of myth g...|\n",
            "|              easter|\n",
            "|sex positions,pub...|\n",
            "|judas,stacy keibl...|\n",
            "|genovese 32,chris...|\n",
            "|free treasure map...|\n",
            "|news,dollar store...|\n",
            "|heather locklear,...|\n",
            "+--------------------+\n",
            "only showing top 20 rows\n",
            "\n"
          ]
        }
      ]
    },
    {
      "cell_type": "code",
      "source": [
        "#write set of Querys to csv\n",
        "set_Query5.write.csv(\"set_Query\")"
      ],
      "metadata": {
        "id": "YSD35V9yzt3q"
      },
      "id": "YSD35V9yzt3q",
      "execution_count": null,
      "outputs": []
    },
    {
      "cell_type": "markdown",
      "source": [
        "link for set_Query file\n",
        "\n",
        "https://drive.google.com/file/d/1MU1Gtdmb5oSX9U17NpN3Ju7QjthCWEU5/view?usp=share_link"
      ],
      "metadata": {
        "id": "3hREkTiyZbEB"
      },
      "id": "3hREkTiyZbEB"
    }
  ],
  "metadata": {
    "kernelspec": {
      "display_name": "Python 3 (ipykernel)",
      "language": "python",
      "name": "python3"
    },
    "language_info": {
      "codemirror_mode": {
        "name": "ipython",
        "version": 3
      },
      "file_extension": ".py",
      "mimetype": "text/x-python",
      "name": "python",
      "nbconvert_exporter": "python",
      "pygments_lexer": "ipython3",
      "version": "3.8.10"
    },
    "colab": {
      "provenance": []
    }
  },
  "nbformat": 4,
  "nbformat_minor": 5
}